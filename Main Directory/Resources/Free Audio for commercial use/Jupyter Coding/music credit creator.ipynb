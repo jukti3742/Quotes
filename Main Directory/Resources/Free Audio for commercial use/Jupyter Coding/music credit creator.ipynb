{
 "cells": [
  {
   "cell_type": "code",
   "execution_count": 2,
   "metadata": {},
   "outputs": [],
   "source": [
    "import os\n",
    "\n",
    "def create_bensound_credit(credit_text):\n",
    "    \"\"\"getting file path\"\"\"\n",
    "    ABS_PATH_FILES = os.path.dirname(os.getcwd())\n",
    "    FILE_DIR = os.path.join(ABS_PATH_FILES, \"Audio Files\")\n",
    "    audio_files = os.listdir(FILE_DIR)\n",
    "    \n",
    "    \"\"\"main function with given condition\"\"\"\n",
    "    for file in audio_files:\n",
    "        if file.startswith(\"bensound\") ==True and \\\n",
    "            file.endswith(\".mp3\")==True and \\\n",
    "            os.path.isfile(os.path.join(FILE_DIR, f\"{file}.txt\")) == False:\n",
    "\n",
    "            temp = open(os.path.join(FILE_DIR, f\"{file}\".rstrip(\".mp3\")+\".txt\"), \"w\")\n",
    "            temp.write(credit_text)\n",
    "            temp.close()\n",
    "\n",
    "            \n",
    "            \n",
    "            \n",
    "if __name__ == \"__main__\":\n",
    "    create_bensound_credit('\"Music: https://www.bensound.com\"')"
   ]
  },
  {
   "cell_type": "code",
   "execution_count": null,
   "metadata": {},
   "outputs": [],
   "source": []
  }
 ],
 "metadata": {
  "kernelspec": {
   "display_name": "Python 3",
   "language": "python",
   "name": "python3"
  },
  "language_info": {
   "codemirror_mode": {
    "name": "ipython",
    "version": 3
   },
   "file_extension": ".py",
   "mimetype": "text/x-python",
   "name": "python",
   "nbconvert_exporter": "python",
   "pygments_lexer": "ipython3",
   "version": "3.9.0"
  }
 },
 "nbformat": 4,
 "nbformat_minor": 4
}
